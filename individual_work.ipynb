{
  "nbformat": 4,
  "nbformat_minor": 0,
  "metadata": {
    "colab": {
      "provenance": [],
      "authorship_tag": "ABX9TyMhszma3u8C+E5nejKVWi0c",
      "include_colab_link": true
    },
    "kernelspec": {
      "name": "ir",
      "display_name": "R"
    },
    "language_info": {
      "name": "R"
    }
  },
  "cells": [
    {
      "cell_type": "markdown",
      "metadata": {
        "id": "view-in-github",
        "colab_type": "text"
      },
      "source": [
        "<a href=\"https://colab.research.google.com/github/ThunchanokChai/SC637703-2023/blob/main/individual_work.ipynb\" target=\"_parent\"><img src=\"https://colab.research.google.com/assets/colab-badge.svg\" alt=\"Open In Colab\"/></a>"
      ]
    },
    {
      "cell_type": "markdown",
      "source": [
        "ข้อมูลที่ใช้ คือ ข้อมูลการจำแนกข้าว\n",
        "ซึ่งประกอบไปด้วย 12 ตัวแปร ดังนี้\n",
        "*   id\n",
        "*   Area\n",
        "*   MajorAxisLength\n",
        "*   MinorAxisLength\n",
        "*   Eccentricity\n",
        "*   ConvexArea\n",
        "*   EquivDiameter\n",
        "*   Extent\n",
        "*   Perimeter\n",
        "*   Roundness\n",
        "*   AspectRation\n",
        "*   Class โดยที่ Jasmine - 1, Gonen - 0.\n",
        "\n",
        "อ้างอิง : https://www.kaggle.com/datasets/mssmartypants/rice-type-classification"
      ],
      "metadata": {
        "id": "jOIT3GF3fZ-n"
      }
    },
    {
      "cell_type": "markdown",
      "source": [
        "#import data"
      ],
      "metadata": {
        "id": "aTygOkmMfad2"
      }
    },
    {
      "cell_type": "code",
      "execution_count": null,
      "metadata": {
        "id": "3j6uZ5T1eZ6z"
      },
      "outputs": [],
      "source": [
        "rice = read.csv(\"/content/riceClassification.csv\")\n",
        "head(rice)"
      ]
    },
    {
      "cell_type": "markdown",
      "source": [
        "#Data Explore"
      ],
      "metadata": {
        "id": "dSFMerABfdRU"
      }
    },
    {
      "cell_type": "code",
      "source": [
        "install.packages('DataExplorer')"
      ],
      "metadata": {
        "id": "4AOCoiAmg1KE"
      },
      "execution_count": null,
      "outputs": []
    },
    {
      "cell_type": "code",
      "source": [
        "library('DataExplorer')\n",
        "head(rice)"
      ],
      "metadata": {
        "id": "Pv2E3typhwxb"
      },
      "execution_count": null,
      "outputs": []
    },
    {
      "cell_type": "code",
      "source": [
        "summary(rice)"
      ],
      "metadata": {
        "id": "7JD_PVwTg4DQ"
      },
      "execution_count": null,
      "outputs": []
    },
    {
      "cell_type": "code",
      "source": [
        "introduce(rice)"
      ],
      "metadata": {
        "id": "FIvKHZmMg5ch"
      },
      "execution_count": null,
      "outputs": []
    },
    {
      "cell_type": "markdown",
      "source": [
        "#Select Data\n"
      ],
      "metadata": {
        "id": "U2ngPgPvhPit"
      }
    },
    {
      "cell_type": "code",
      "source": [
        "rice_new = rice[,2:12] #ืลบ Column ที่ 1 ออกเนื่องจากไม่ได้ใช้ในการวิเคราะห์"
      ],
      "metadata": {
        "id": "W0yTZjjKhXTH"
      },
      "execution_count": null,
      "outputs": []
    },
    {
      "cell_type": "code",
      "source": [
        "head(rice_new)"
      ],
      "metadata": {
        "id": "umdDoGjAh1aG"
      },
      "execution_count": null,
      "outputs": []
    },
    {
      "cell_type": "markdown",
      "source": [
        "#PCA Data"
      ],
      "metadata": {
        "id": "PH04e05GfgkL"
      }
    },
    {
      "cell_type": "markdown",
      "source": [
        "##Split data into X and Y"
      ],
      "metadata": {
        "id": "-DXBz_piiBuR"
      }
    },
    {
      "cell_type": "code",
      "source": [
        "X = rice_new[,1:10]\n",
        "head(X)"
      ],
      "metadata": {
        "id": "Ngf64HR7g1kV"
      },
      "execution_count": null,
      "outputs": []
    },
    {
      "cell_type": "code",
      "source": [
        "Y = rice_new[,11]\n",
        "head(Y)"
      ],
      "metadata": {
        "id": "NLAK8-wUiF10"
      },
      "execution_count": null,
      "outputs": []
    },
    {
      "cell_type": "markdown",
      "source": [
        "##Check the Correlation"
      ],
      "metadata": {
        "id": "GyXmJThmfi_A"
      }
    },
    {
      "cell_type": "code",
      "source": [
        "pairs(X, pch = 19, lower.panel = NULL)"
      ],
      "metadata": {
        "id": "7POPUFgSiMSu"
      },
      "execution_count": null,
      "outputs": []
    },
    {
      "cell_type": "markdown",
      "source": [
        "##PCA"
      ],
      "metadata": {
        "id": "NwYdo95NiR4o"
      }
    },
    {
      "cell_type": "code",
      "source": [
        "install.packages(\"factoextra\")"
      ],
      "metadata": {
        "id": "Wucgvu-urov3"
      },
      "execution_count": null,
      "outputs": []
    },
    {
      "cell_type": "code",
      "source": [
        "library(\"ggplot2\")\n",
        "library(\"factoextra\")"
      ],
      "metadata": {
        "id": "hym2ahRQiUrz"
      },
      "execution_count": null,
      "outputs": []
    },
    {
      "cell_type": "code",
      "source": [
        "res.pca = prcomp(X,scale = TRUE)"
      ],
      "metadata": {
        "id": "aprza3Q2iXLc"
      },
      "execution_count": null,
      "outputs": []
    },
    {
      "cell_type": "code",
      "source": [
        "print(summary(res.pca))\n",
        "#เลือก 2 PC เนื่องจาก 2 PC Cumulative proportion > 0.8"
      ],
      "metadata": {
        "id": "zX5s4AiSiXGf"
      },
      "execution_count": null,
      "outputs": []
    },
    {
      "cell_type": "code",
      "source": [
        "Sd_PC = res.pca$sdev\n",
        "eigval = Sd_PC^2\n",
        "eigvec = res.pca$rotation\n",
        "eigval_mean = mean(eigval)\n",
        "#แสดงค่าeigenvalue\n",
        "eigval"
      ],
      "metadata": {
        "id": "qpYr3MdxiXEU"
      },
      "execution_count": null,
      "outputs": []
    },
    {
      "cell_type": "code",
      "source": [
        "#มี PC1 และ PC2 ที่ eigenvalue > 1"
      ],
      "metadata": {
        "id": "cIYEGTLVFXQl"
      },
      "execution_count": null,
      "outputs": []
    },
    {
      "cell_type": "code",
      "source": [
        "var = get_pca_var(res.pca)"
      ],
      "metadata": {
        "id": "a7ipCPdQDOpt"
      },
      "execution_count": null,
      "outputs": []
    },
    {
      "cell_type": "markdown",
      "source": [
        "###Scree plot"
      ],
      "metadata": {
        "id": "Rp9AcaruiqLD"
      }
    },
    {
      "cell_type": "code",
      "source": [
        "fviz_pca_var(res.pca,col.var=\"cos2\", gradient.cols=c(\"#A1D0BE\",\"#F68D71\",\"#90A9D7\"))"
      ],
      "metadata": {
        "id": "RJmBSelMiXB5"
      },
      "execution_count": null,
      "outputs": []
    },
    {
      "cell_type": "markdown",
      "source": [
        "##Correlation circle"
      ],
      "metadata": {
        "id": "YpzSSUoEi7yj"
      }
    },
    {
      "cell_type": "code",
      "source": [
        "library(corrplot)"
      ],
      "metadata": {
        "id": "NlCmaVHpiW_e"
      },
      "execution_count": null,
      "outputs": []
    },
    {
      "cell_type": "code",
      "source": [
        "corrplot(var$cos2,method = \"color\", type = \"full\",  diag = TRUE,tl.col = \"black\", bg =\"white\", col = NULL)"
      ],
      "metadata": {
        "id": "CcSk5B7NjU8J"
      },
      "execution_count": null,
      "outputs": []
    },
    {
      "cell_type": "markdown",
      "source": [
        "###create new data frame"
      ],
      "metadata": {
        "id": "325RpE9kjIYS"
      }
    },
    {
      "cell_type": "code",
      "source": [
        "# New Data\n",
        "PCA = res.pca$x[,1:2]"
      ],
      "metadata": {
        "id": "ymWbpWMviW81"
      },
      "execution_count": null,
      "outputs": []
    },
    {
      "cell_type": "code",
      "source": [
        "# สร้าง df ใหม่ที่รวม X_train และ Y_train\n",
        "PCA_X_data <- cbind(PCA,Y)"
      ],
      "metadata": {
        "id": "iZW612-YiW6H"
      },
      "execution_count": null,
      "outputs": []
    },
    {
      "cell_type": "code",
      "source": [
        "# เปลี่ยนชื่อ Y_train เป็น Class\n",
        "colnames(PCA_X_data)[colnames(PCA_X_data)==\"Y\"] = \"Class\""
      ],
      "metadata": {
        "id": "O7xQ9OR4iW31"
      },
      "execution_count": null,
      "outputs": []
    },
    {
      "cell_type": "code",
      "source": [
        "head(PCA_X_data)"
      ],
      "metadata": {
        "id": "QS55jaCWiW1b"
      },
      "execution_count": null,
      "outputs": []
    },
    {
      "cell_type": "code",
      "source": [
        "# ทำให้เป็นdata frame จะได้ data ใหม่\n",
        "PCA_data = as.data.frame(PCA_X_data)"
      ],
      "metadata": {
        "id": "61bN34XHiWcR"
      },
      "execution_count": null,
      "outputs": []
    },
    {
      "cell_type": "markdown",
      "source": [
        "#Prepare Data before ML"
      ],
      "metadata": {
        "id": "t3CRTUL5j_2y"
      }
    },
    {
      "cell_type": "markdown",
      "source": [
        "### Split normal data into training (80%) and test (20%) data"
      ],
      "metadata": {
        "id": "pwKEjF8_kEoU"
      }
    },
    {
      "cell_type": "code",
      "source": [
        "install.packages(\"caret\")"
      ],
      "metadata": {
        "id": "zlOsZINputGF"
      },
      "execution_count": null,
      "outputs": []
    },
    {
      "cell_type": "code",
      "source": [
        "library(caret)\n",
        "library(dplyr)"
      ],
      "metadata": {
        "id": "mvXHyHgPunUo"
      },
      "execution_count": null,
      "outputs": []
    },
    {
      "cell_type": "code",
      "source": [
        "set.seed(555)\n",
        "training.samples = rice_new$Class %>% createDataPartition(p = 0.8, list = FALSE)"
      ],
      "metadata": {
        "id": "Z1dHcEK5kV4N"
      },
      "execution_count": null,
      "outputs": []
    },
    {
      "cell_type": "code",
      "source": [
        "train_data = rice_new[training.samples, ]\n",
        "head(train_data)"
      ],
      "metadata": {
        "id": "X2juSKkEkagi"
      },
      "execution_count": null,
      "outputs": []
    },
    {
      "cell_type": "code",
      "source": [
        "test_data = rice_new[-training.samples, ]\n",
        "head(test_data)"
      ],
      "metadata": {
        "id": "oCvLAFVIkcKS"
      },
      "execution_count": null,
      "outputs": []
    },
    {
      "cell_type": "markdown",
      "source": [
        "### Split PCA data into training (80%) and test (20%) data"
      ],
      "metadata": {
        "id": "k5na2yvUkGzm"
      }
    },
    {
      "cell_type": "code",
      "source": [
        "set.seed(555)\n",
        "PCA_training_samples = PCA_data$Class %>% createDataPartition(p = 0.8, list = FALSE)"
      ],
      "metadata": {
        "id": "DQBXoKUWkWMx"
      },
      "execution_count": null,
      "outputs": []
    },
    {
      "cell_type": "code",
      "source": [
        "PCA_train_data = PCA_data[PCA_training_samples, ]\n",
        "head(PCA_train_data)"
      ],
      "metadata": {
        "id": "7DOlpocFkj0K"
      },
      "execution_count": null,
      "outputs": []
    },
    {
      "cell_type": "code",
      "source": [
        "PCA_test_data = PCA_data[-PCA_training_samples, ]\n",
        "head(PCA_test_data)\n"
      ],
      "metadata": {
        "id": "t6eGwDmckjtF"
      },
      "execution_count": null,
      "outputs": []
    },
    {
      "cell_type": "markdown",
      "source": [
        "#Quadratic Discriminant Analysis(QDA) without PCA"
      ],
      "metadata": {
        "id": "emu0Zaz3jp2-"
      }
    },
    {
      "cell_type": "markdown",
      "source": [
        "##Fit the QDA Model"
      ],
      "metadata": {
        "id": "fJ0ZufEakuNO"
      }
    },
    {
      "cell_type": "code",
      "source": [
        "install.packages(\"MASS\")"
      ],
      "metadata": {
        "id": "HYF5KB81waio"
      },
      "execution_count": null,
      "outputs": []
    },
    {
      "cell_type": "code",
      "source": [
        "library(MASS)\n",
        "model = qda(Class~., data=train_data)"
      ],
      "metadata": {
        "id": "cVhu69puk1xG"
      },
      "execution_count": null,
      "outputs": []
    },
    {
      "cell_type": "code",
      "source": [
        "model"
      ],
      "metadata": {
        "id": "o9jU2jBqk4Cz"
      },
      "execution_count": null,
      "outputs": []
    },
    {
      "cell_type": "markdown",
      "source": [
        "##use QDA model to make predictions on test data"
      ],
      "metadata": {
        "id": "sXFh9SBlk5tL"
      }
    },
    {
      "cell_type": "code",
      "source": [
        "predicted = predict(model, test_data)"
      ],
      "metadata": {
        "id": "mc3Jy7Hyk8hZ"
      },
      "execution_count": null,
      "outputs": []
    },
    {
      "cell_type": "code",
      "source": [
        "names(predicted)"
      ],
      "metadata": {
        "id": "FNVEqPOgk9Np"
      },
      "execution_count": null,
      "outputs": []
    },
    {
      "cell_type": "code",
      "source": [
        "head(predicted$x)"
      ],
      "metadata": {
        "id": "3t1V5hivk_c4"
      },
      "execution_count": null,
      "outputs": []
    },
    {
      "cell_type": "code",
      "source": [
        "head(predicted$class)"
      ],
      "metadata": {
        "id": "1TpkDyB5lBkE"
      },
      "execution_count": null,
      "outputs": []
    },
    {
      "cell_type": "markdown",
      "source": [
        "##find accuracy of model"
      ],
      "metadata": {
        "id": "-_arRMmbk07_"
      }
    },
    {
      "cell_type": "code",
      "source": [
        "mean(predicted$class==test_data$Class)"
      ],
      "metadata": {
        "id": "9xrxU1salGya"
      },
      "execution_count": null,
      "outputs": []
    },
    {
      "cell_type": "markdown",
      "source": [
        "##Visualize the Results"
      ],
      "metadata": {
        "id": "1hjC-bYIlHcW"
      }
    },
    {
      "cell_type": "code",
      "source": [
        "library(ggplot2)\n",
        "ggplot(test_data, aes(Area,MajorAxisLength)) +\n",
        "  geom_point(aes(color = Class))"
      ],
      "metadata": {
        "id": "6KHs1hunlKqF"
      },
      "execution_count": null,
      "outputs": []
    },
    {
      "cell_type": "markdown",
      "source": [
        "#Quadratic Discriminant Analysis(QDA) with PCA"
      ],
      "metadata": {
        "id": "r_Dk1hIVjvtO"
      }
    },
    {
      "cell_type": "markdown",
      "source": [
        "##Fit the QDA Model"
      ],
      "metadata": {
        "id": "XQy385XylPdH"
      }
    },
    {
      "cell_type": "code",
      "source": [
        "model = qda(Class~., PCA_train_data)"
      ],
      "metadata": {
        "id": "ou4mSs4qlTwJ"
      },
      "execution_count": null,
      "outputs": []
    },
    {
      "cell_type": "code",
      "source": [
        "model"
      ],
      "metadata": {
        "id": "HFibShEElixV"
      },
      "execution_count": null,
      "outputs": []
    },
    {
      "cell_type": "markdown",
      "source": [
        "##use QDA model to make predictions on test data"
      ],
      "metadata": {
        "id": "WZ3pYyuQlWL1"
      }
    },
    {
      "cell_type": "code",
      "source": [
        "predicted = predict(model, PCA_test_data)"
      ],
      "metadata": {
        "id": "hnIf5XVWlkec"
      },
      "execution_count": null,
      "outputs": []
    },
    {
      "cell_type": "code",
      "source": [
        "names(predicted)"
      ],
      "metadata": {
        "id": "P4J4nhaPloMt"
      },
      "execution_count": null,
      "outputs": []
    },
    {
      "cell_type": "code",
      "source": [
        "head(predicted$x)"
      ],
      "metadata": {
        "id": "9iLzTDUmloEc"
      },
      "execution_count": null,
      "outputs": []
    },
    {
      "cell_type": "code",
      "source": [
        "head(predicted$class)"
      ],
      "metadata": {
        "id": "-855rXDUlnzM"
      },
      "execution_count": null,
      "outputs": []
    },
    {
      "cell_type": "markdown",
      "source": [
        "##find accuracy of model"
      ],
      "metadata": {
        "id": "ZJfgNKDllWBt"
      }
    },
    {
      "cell_type": "code",
      "source": [
        "mean(predicted$class==PCA_test_data$Class)"
      ],
      "metadata": {
        "id": "pdgVWOhllrhe"
      },
      "execution_count": null,
      "outputs": []
    },
    {
      "cell_type": "markdown",
      "source": [
        "##Visualize the Results"
      ],
      "metadata": {
        "id": "bA7p5KxalVvc"
      }
    },
    {
      "cell_type": "code",
      "source": [
        "ggplot(PCA_test_data, aes(PC1,PC2)) +\n",
        "  geom_point(aes(color = Class))"
      ],
      "metadata": {
        "id": "0sGY_v8mluQw"
      },
      "execution_count": null,
      "outputs": []
    },
    {
      "cell_type": "markdown",
      "source": [
        "#COMPARE QDA with and without PCA"
      ],
      "metadata": {
        "id": "4MLSBJIilvbv"
      }
    },
    {
      "cell_type": "code",
      "source": [
        "#accuracy of QDA model = 0.988452020896343"
      ],
      "metadata": {
        "id": "OX2cDLJ0mVEU"
      },
      "execution_count": null,
      "outputs": []
    },
    {
      "cell_type": "code",
      "source": [
        "#accuracy of QDA model with PCA = 0.98625240582898"
      ],
      "metadata": {
        "id": "5NH8D8SJxg8H"
      },
      "execution_count": null,
      "outputs": []
    },
    {
      "cell_type": "code",
      "source": [
        "#####QDA model with PCA better than QDA model"
      ],
      "metadata": {
        "id": "upEvYp1Wxr7b"
      },
      "execution_count": null,
      "outputs": []
    },
    {
      "cell_type": "markdown",
      "source": [
        "#Logistic Regression without PCA"
      ],
      "metadata": {
        "id": "KI4t2sS6jyYD"
      }
    },
    {
      "cell_type": "markdown",
      "source": [
        "##Fit the logistic model"
      ],
      "metadata": {
        "id": "JIp8KIBIl-0G"
      }
    },
    {
      "cell_type": "markdown",
      "source": [
        "###LOGISTIC REGRESSION - FULL MODEL"
      ],
      "metadata": {
        "id": "fB4-2Fi8mEJx"
      }
    },
    {
      "cell_type": "code",
      "source": [
        "full_model = glm(Class ~., data= train_data, family = binomial)\n",
        "summary(full_model)"
      ],
      "metadata": {
        "id": "QA-WH-3PmGJ1"
      },
      "execution_count": null,
      "outputs": []
    },
    {
      "cell_type": "markdown",
      "source": [
        "###LOGISTIC REGRESSION - STEPWISE MODEL"
      ],
      "metadata": {
        "id": "r47V30MBmFHO"
      }
    },
    {
      "cell_type": "code",
      "source": [
        "stepwise_model = glm(Class ~., data= train_data, family = binomial) %>% stepAIC(trace = FALSE)\n",
        "summary(stepwise_model)"
      ],
      "metadata": {
        "id": "d0MZKbFKmDrQ"
      },
      "execution_count": null,
      "outputs": []
    },
    {
      "cell_type": "markdown",
      "source": [
        "###COMPARE FULL and STEPWISE MODEL"
      ],
      "metadata": {
        "id": "6Ueun7ObmIBM"
      }
    },
    {
      "cell_type": "markdown",
      "source": [
        "####Full Model"
      ],
      "metadata": {
        "id": "mXcWkDoWmMF4"
      }
    },
    {
      "cell_type": "code",
      "source": [
        "# Prediction of Probability\n",
        "prob_full = predict(full_model, test_data, type = \"response\")\n",
        "head(prob_full)"
      ],
      "metadata": {
        "id": "UUdZb-2amq_e"
      },
      "execution_count": null,
      "outputs": []
    },
    {
      "cell_type": "code",
      "source": [
        "# Predicted Class\n",
        "predicted_full = ifelse(prob_full > 0.5, \"1\", \"0\")\n",
        "head(predicted_full)"
      ],
      "metadata": {
        "id": "QGFoeqWKncC1"
      },
      "execution_count": null,
      "outputs": []
    },
    {
      "cell_type": "code",
      "source": [
        "# Accuracy\n",
        "mean(predicted_full == test_data$Class)"
      ],
      "metadata": {
        "id": "Ny9eErZincxS"
      },
      "execution_count": null,
      "outputs": []
    },
    {
      "cell_type": "markdown",
      "source": [
        "####Stepwise Model"
      ],
      "metadata": {
        "id": "iHBgjmoLmNTc"
      }
    },
    {
      "cell_type": "code",
      "source": [
        "# Prediction of Probability\n",
        "prob_stepwise = predict(stepwise_model, test_data, type = \"response\")\n",
        "head(prob_stepwise)"
      ],
      "metadata": {
        "id": "BeYQm3zTmHMx"
      },
      "execution_count": null,
      "outputs": []
    },
    {
      "cell_type": "code",
      "source": [
        "# Predicted Class\n",
        "predicted_stepwise = ifelse(prob_stepwise > 0.5, \"1\", \"0\")\n",
        "head(predicted_stepwise)\n"
      ],
      "metadata": {
        "id": "B2Qg27Y9ndkP"
      },
      "execution_count": null,
      "outputs": []
    },
    {
      "cell_type": "code",
      "source": [
        "# Accuracy\n",
        "mean(predicted_stepwise == test_data$Class)"
      ],
      "metadata": {
        "id": "_OWg9Kb4nder"
      },
      "execution_count": null,
      "outputs": []
    },
    {
      "cell_type": "code",
      "source": [
        "####STEPWISE MODEL is better than FULL MODEL"
      ],
      "metadata": {
        "id": "FD67vBHvnnhL"
      },
      "execution_count": null,
      "outputs": []
    },
    {
      "cell_type": "markdown",
      "source": [
        "##Goodness of Fit of STEPWISE MODEL"
      ],
      "metadata": {
        "id": "1dgbG2HJnort"
      }
    },
    {
      "cell_type": "code",
      "source": [
        "install.packages(\"performance\")"
      ],
      "metadata": {
        "id": "W-HPuCdCyGSp"
      },
      "execution_count": null,
      "outputs": []
    },
    {
      "cell_type": "code",
      "source": [
        "library(performance)\n",
        "performance_hosmer(stepwise_model, n_bins = 10)"
      ],
      "metadata": {
        "id": "kSdh0xP-nwvt"
      },
      "execution_count": null,
      "outputs": []
    },
    {
      "cell_type": "markdown",
      "source": [
        "##Assumption and Diagnostic Checking"
      ],
      "metadata": {
        "id": "xnYyLaxJnyy0"
      }
    },
    {
      "cell_type": "markdown",
      "source": [
        "###Linearity"
      ],
      "metadata": {
        "id": "p-3EJWpRn0ux"
      }
    },
    {
      "cell_type": "code",
      "source": [
        "library(tidyverse)\n",
        "library(ggplot2)\n",
        "library(broom)\n",
        "mydata = train_data %>% dplyr :: select_if(is.numeric)\n",
        "\n",
        "probabilities_stepwise = predict(stepwise_model, train_data, type = \"response\")\n",
        "logit_sw = log(probabilities_stepwise/(1 - probabilities_stepwise))\n",
        "mydata2 = mydata %>% mutate(logit_sw) %>% gather(key = \"predictors\", value = \"predictors.value\",-logit_sw)\n",
        "\n",
        "head(mydata2,10)\n",
        "\n",
        "ggplot(mydata2, aes(logit_sw,predictors.value)) + geom_point(size = 0.5, alpha = 0.5) + geom_smooth(method=\"loess\") + theme_bw() + facet_wrap(~predictors,scales=\"free_y\")"
      ],
      "metadata": {
        "id": "xZRM6ICOoVOd"
      },
      "execution_count": null,
      "outputs": []
    },
    {
      "cell_type": "markdown",
      "source": [
        "###Influential Values"
      ],
      "metadata": {
        "id": "Fodn-PGxn1QH"
      }
    },
    {
      "cell_type": "code",
      "source": [
        "model_sw_data = augment(stepwise_model) %>% mutate(index=1:n())\n",
        "model_sw_data %>% top_n(3,.cooksd)\n",
        "ggplot(model_sw_data,aes(index,.std.resid)) + geom_point(aes(color = Class),alpha = 5) + theme_bw()"
      ],
      "metadata": {
        "id": "On-th3GHoOhk"
      },
      "execution_count": null,
      "outputs": []
    },
    {
      "cell_type": "markdown",
      "source": [
        "###Multicolinearity"
      ],
      "metadata": {
        "id": "JVK8eShvn7lu"
      }
    },
    {
      "cell_type": "code",
      "source": [
        "install.packages(\"car\")"
      ],
      "metadata": {
        "id": "58FjFoSU0mLc"
      },
      "execution_count": null,
      "outputs": []
    },
    {
      "cell_type": "code",
      "source": [
        "library(car)\n",
        "vif(stepwise_model)"
      ],
      "metadata": {
        "id": "Z7BMbdJwoN-X"
      },
      "execution_count": null,
      "outputs": []
    },
    {
      "cell_type": "markdown",
      "source": [
        "##ODD RATIO"
      ],
      "metadata": {
        "id": "9d1JYrZCn-BP"
      }
    },
    {
      "cell_type": "code",
      "source": [
        "model.OR <- exp(stepwise_model$coefficients)\n",
        "round(model.OR, 3)"
      ],
      "metadata": {
        "id": "hi2Or48noKwA"
      },
      "execution_count": null,
      "outputs": []
    },
    {
      "cell_type": "markdown",
      "source": [
        "#Logistic Regression with PCA"
      ],
      "metadata": {
        "id": "bMHDHqXoj4P3"
      }
    },
    {
      "cell_type": "markdown",
      "source": [
        "##Fit the logistic model"
      ],
      "metadata": {
        "id": "yqr6mByWoghY"
      }
    },
    {
      "cell_type": "markdown",
      "source": [
        "###LOGISTIC REGRESSION - FULL MODEL"
      ],
      "metadata": {
        "id": "T6oWEnLDomSU"
      }
    },
    {
      "cell_type": "code",
      "source": [
        "full_model = glm(Class ~., data = PCA_train_data, family = binomial)\n",
        "summary(full_model)"
      ],
      "metadata": {
        "id": "5k_CHR8XpTZW"
      },
      "execution_count": null,
      "outputs": []
    },
    {
      "cell_type": "markdown",
      "source": [
        "###use logistic regression model to make predictions on test data"
      ],
      "metadata": {
        "id": "fnWjB41Tonu6"
      }
    },
    {
      "cell_type": "code",
      "source": [
        "# Prediction of Probability\n",
        "prob_full = predict(full_model, PCA_test_data , type = \"response\")\n",
        "head(prob_full)"
      ],
      "metadata": {
        "id": "fNzXSKf-pj-s"
      },
      "execution_count": null,
      "outputs": []
    },
    {
      "cell_type": "code",
      "source": [
        "# Predicted Class\n",
        "predicted_full = ifelse(prob_full > 0.5, \"1\", \"0\")\n",
        "head(predicted_full)\n"
      ],
      "metadata": {
        "id": "Tx72oBZopk-d"
      },
      "execution_count": null,
      "outputs": []
    },
    {
      "cell_type": "markdown",
      "source": [
        "##Find accuracy of model"
      ],
      "metadata": {
        "id": "flNF8eaei-wd"
      }
    },
    {
      "cell_type": "code",
      "source": [
        "# Accuracy\n",
        "mean(predicted_full == PCA_test_data$Class)"
      ],
      "metadata": {
        "id": "I-1o6Zeypk4t"
      },
      "execution_count": null,
      "outputs": []
    },
    {
      "cell_type": "markdown",
      "source": [
        "##Goodness of Fit"
      ],
      "metadata": {
        "id": "iaFIseKaoqP2"
      }
    },
    {
      "cell_type": "code",
      "source": [
        "library(performance)\n",
        "performance_hosmer(full_model, n_bins = 4)"
      ],
      "metadata": {
        "id": "Wiba-CNNqYoY"
      },
      "execution_count": null,
      "outputs": []
    },
    {
      "cell_type": "markdown",
      "source": [
        "##Assumption and Diagnostic Checking"
      ],
      "metadata": {
        "id": "4gEiTSmvotWv"
      }
    },
    {
      "cell_type": "markdown",
      "source": [
        "###Linearity"
      ],
      "metadata": {
        "id": "xnFL8eJVouiv"
      }
    },
    {
      "cell_type": "code",
      "source": [
        "mydata = PCA_train_data %>% dplyr :: select_if(is.numeric)\n",
        "\n",
        "probabilities_stepwise = predict(stepwise_model, PCA_train_data, type = \"response\")\n",
        "logit_sw = log(probabilities_stepwise/(1 - probabilities_stepwise))\n",
        "mydata2 = mydata %>% mutate(logit_sw) %>% gather(key = \"predictors\", value = \"predictors.value\",-logit_sw)\n",
        "\n",
        "head(mydata2,10)"
      ],
      "metadata": {
        "id": "QMAdtFNoqie4"
      },
      "execution_count": null,
      "outputs": []
    },
    {
      "cell_type": "code",
      "source": [
        "ggplot(mydata2, aes(logit_sw,predictors.value)) + geom_point(size = 0.5, alpha = 0.5) + geom_smooth(method=\"loess\") + theme_bw() + facet_wrap(~predictors,scales=\"free_y\")"
      ],
      "metadata": {
        "id": "8fcqy1f5qkPe"
      },
      "execution_count": null,
      "outputs": []
    },
    {
      "cell_type": "markdown",
      "source": [
        "###Influential Values"
      ],
      "metadata": {
        "id": "gWKKCg_Govft"
      }
    },
    {
      "cell_type": "code",
      "source": [
        "model_sw_data = augment(stepwise_model) %>% mutate(index=1:n())\n",
        "\n",
        "model_sw_data %>% top_n(3,.cooksd)\n",
        "\n",
        "ggplot(model_sw_data,aes(index,.std.resid)) + geom_point(aes(color = Class),alpha = 5) + theme_bw()\n"
      ],
      "metadata": {
        "id": "z-Ckm9BeqpHj"
      },
      "execution_count": null,
      "outputs": []
    },
    {
      "cell_type": "markdown",
      "source": [
        "###Multicolinearity"
      ],
      "metadata": {
        "id": "9NXHnNvyowBz"
      }
    },
    {
      "cell_type": "code",
      "source": [
        "library(car)\n",
        "vif(stepwise_model)"
      ],
      "metadata": {
        "id": "EaLvUOuKqt_A"
      },
      "execution_count": null,
      "outputs": []
    },
    {
      "cell_type": "markdown",
      "source": [
        "##ODD RATIO"
      ],
      "metadata": {
        "id": "5Yg7XBL7owpr"
      }
    },
    {
      "cell_type": "code",
      "source": [
        "model.OR <- exp(stepwise_model$coefficients)\n",
        "round(model.OR, 3)"
      ],
      "metadata": {
        "id": "e6CfJIBPqxqC"
      },
      "execution_count": null,
      "outputs": []
    },
    {
      "cell_type": "markdown",
      "source": [
        "#Compare logistic model with and without PCA"
      ],
      "metadata": {
        "id": "Ues0Se5-oycw"
      }
    },
    {
      "cell_type": "code",
      "source": [
        "#accuracy of Logistic model = 0.991201539730547"
      ],
      "metadata": {
        "id": "u7ijFE7D3j0M"
      },
      "execution_count": null,
      "outputs": []
    },
    {
      "cell_type": "code",
      "source": [
        "#accuracy of Logistic model with PCA = 0.989001924663184"
      ],
      "metadata": {
        "id": "7CEuky9Q3oHt"
      },
      "execution_count": null,
      "outputs": []
    },
    {
      "cell_type": "code",
      "source": [
        "#####Logistic model better than Logistic model with PCA"
      ],
      "metadata": {
        "id": "h2AkM9ey39H6"
      },
      "execution_count": null,
      "outputs": []
    }
  ]
}